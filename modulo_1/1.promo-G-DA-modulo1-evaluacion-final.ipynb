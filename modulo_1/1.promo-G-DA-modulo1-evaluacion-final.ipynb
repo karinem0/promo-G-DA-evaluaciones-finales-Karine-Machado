{
 "cells": [
  {
   "cell_type": "markdown",
   "metadata": {},
   "source": [
    "# Ejercicio\n",
    "\n",
    "A lo largo de esta evaluación tendrás que crear una clase llamada TiendaOnline que cumpla los siguientes requisitos:\n"
   ]
  },
  {
   "cell_type": "markdown",
   "metadata": {},
   "source": [
    "\n",
    "- La clase TiendaOnline debe tener los siguientes atributos:\n",
    "\n",
    "1. inventario (lista de diccionarios): Un atributo para almacenar los productos en el inventario. Cada producto debe ser representado como un diccionario con las siguientes claves: 'nombre', 'precio', y 'cantidad'. Al principio deberá ser una lista vacía. Ejemplo de como debería ser:\n",
    "\n",
    "\n",
    "        - [{'nombre': 'Camisa', 'precio': 20, 'cantidad': 40},\n",
    "\n",
    "        - {'nombre': 'Pantalón', 'precio': 30, 'cantidad': 30}]\n",
    "\n"
   ]
  },
  {
   "cell_type": "markdown",
   "metadata": {},
   "source": [
    "\n",
    "\n",
    "2. clientes (diccionario): Un atributo para llevar un registro de los clientes de la tienda. Cada cliente debe ser representado como un diccionario con las siguientes claves: 'nombre' y 'email'. Al inicio deberá ser un diccionario vacío. Además, cada cliente debe tener un historial de compras. Deberá parecerse a:\n",
    "\n",
    "        - {'Cliente1': {'email': 'cliente1@email.com', 'compras': []},\n",
    "\n",
    "        - 'Cliente2': {'email': 'cliente2@email.com', 'compras': []}}\n"
   ]
  },
  {
   "cell_type": "markdown",
   "metadata": {},
   "source": [
    "3. ventas_totales (float): Un atributo para llevar un registro de las ventas totales de la tienda. Inicializalo con valor 0.\n"
   ]
  },
  {
   "cell_type": "markdown",
   "metadata": {},
   "source": [
    "Para comprobar que nuestra clase y sus métodos (funciones) funcionan correctamente lo comprobamos creando una instancia de clase Tienda Online"
   ]
  },
  {
   "cell_type": "markdown",
   "metadata": {},
   "source": [
    "\n",
    "--------------------------------------------------------------------------------------------------------------------------------------------------------\n",
    "La clase TiendaOnline debe tener los siguientes métodos:\n",
    "1. agregar_producto(self, nombre, precio, cantidad): Este método agrega un producto al inventario o actualiza su cantidad si ya existe. Debe recibir el nombre, precio y cantidad del producto como parámetros.\n",
    "\n",
    "        - Itera a través del inventario y compara los nombres de los productos con el nombre proporcionado.\n",
    "\n",
    "        - Si el producto ya existe, actualiza la cantidad.\n",
    "\n",
    "        - Si no existe, agrega un nuevo producto al inventario.\n",
    "\n"
   ]
  },
  {
   "cell_type": "markdown",
   "metadata": {},
   "source": [
    "2. ver_inventario(self): Muestra el inventario de productos con sus detalles.\n",
    "\n",
    "        - Utiliza un bucle for para recorrer el inventario.\n",
    "\n",
    "        - Imprime los detalles (nombre, precio, cantidad) de cada producto.\n",
    "\n",
    "Debería verse:\n",
    "\n",
    "                Nombre: Camisa, Precio: $20, Cantidad: 50\n",
    "                Nombre: Pantalón, Precio: $30, Cantidad: 30\n",
    "                Nombre: Zapatos, Precio: $50, Cantidad: 40\n",
    "                Nombre: Camisa, Precio: $20, Cantidad: 50\n",
    "\n",
    "\n"
   ]
  },
  {
   "cell_type": "markdown",
   "metadata": {},
   "source": [
    "\n",
    "3. buscar_producto(self, nombre): Busca un producto en el inventario por nombre y muestra sus detalles si se encuentra. Debe recibir el nombre del producto como parámetro.\n",
    "\n",
    "        - Utiliza un bucle for para recorrer el inventario.\n",
    "\n",
    "        - Compara los nombres de los productos con el nombre proporcionado.\n",
    "\n",
    "        - Si se encuentra el producto, imprime sus detalles.\n",
    "\n",
    "\n",
    "Debe mostrar:\n",
    "\n",
    "            Nombre: Camisa, Precio: $20, Cantidad: 40\n",
    "\n",
    "\n"
   ]
  },
  {
   "cell_type": "markdown",
   "metadata": {},
   "source": [
    "\n",
    "4. actualizar_stock(self, nombre, cantidad): Actualiza el stock de un producto en el inventario. Debe recibir el nombre del producto y la cantidad a agregar o quitar como parámetros.\n",
    "\n",
    "        - Utiliza un bucle for para recorrer el inventario.\n",
    "\n",
    "        - Busca el producto por nombre.\n",
    "\n",
    "        - Actualiza la cantidad según la entrada del usuario.\n",
    "\n",
    "        - Si el producto no esta en el inventario muestra un mensaje indicándolo.\n",
    "\n"
   ]
  },
  {
   "cell_type": "markdown",
   "metadata": {},
   "source": [
    "\n",
    "\n",
    "5. eliminar_producto(self, nombre): Elimina un producto del inventario por nombre. Debe recibir el nombre del producto como parámetro.\n",
    "\n",
    "        - Utiliza un bucle for para recorrer el inventario.\n",
    "\n",
    "        - Busca el producto por nombre.\n",
    "\n",
    "        - Elimina el producto del inventario si existe.\n",
    "\n",
    "        - Si el producto no esta en el inventario muestra un mensaje indicándolo.\n",
    "\n"
   ]
  },
  {
   "cell_type": "markdown",
   "metadata": {},
   "source": [
    "\n",
    "\n",
    "6. calcular_valor_inventario(self): Calcula y muestra el valor total del inventario.\n",
    "\n",
    "        - Utiliza un bucle for para calcular el valor total del inventario.\n",
    "\n",
    "        - Itera a través del inventario y suma el valor de cada producto (precio x cantidad). Es decir, calcula el valor total del inventario. Ejemplo:\n",
    "\n",
    "            #si tenemos 5 camisas que valen 5 euros \n",
    "            #y 10 calcetines que valen 1 euro\n",
    "            #este método te tiene que devolver: 35 euros\n",
    "            valor_camisas = 5 * 5\n",
    "            valor_calcetines = 10 * 1\n",
    "            valor_camisas + valor_calcetines = 35\n",
    "\n"
   ]
  },
  {
   "cell_type": "markdown",
   "metadata": {},
   "source": [
    "\n",
    "\n",
    "7. realizar_compra(self): Permite a un cliente realizar una compra seleccionando productos del inventario. Debe interactuar con el cliente para seleccionar productos y calcular el costo total de la compra.\n",
    "\n",
    "        - Utiliza un bucle while para permitir al cliente realizar múltiples compras.\n",
    "\n",
    "        - Muestra el inventario y solicita al cliente ingresar el nombre del producto que desea comprar.\n",
    "\n",
    "        - Registra los productos seleccionados en un carrito y actualiza el inventario.\n",
    "\n",
    "        - Calcula el costo total de la compra.\n"
   ]
  },
  {
   "cell_type": "markdown",
   "metadata": {},
   "source": [
    "\n",
    "--------------------------------------------------------------------------------------------------------------------------------------------------------\n",
    "\n",
    "\n",
    "📌 A partir de este punto los ejercicios son voluntarios:\n",
    "\n",
    "\n",
    "8. procesar_pago(self): Procesa el pago de una compra, calcula el cambio y muestra un mensaje de confirmación.\n",
    "\n",
    "        - Utiliza un bloque try...except para manejar excepciones.\n",
    "\n",
    "        - Solicita al cliente ingresar la cantidad total y la cantidad de pago usando un input.\n",
    "\n",
    "        - Calcula el cambio y muestra un mensaje de pago exitoso o un error en caso de monto insuficiente.\n",
    "\n"
   ]
  },
  {
   "cell_type": "markdown",
   "metadata": {},
   "source": [
    "\n",
    "\n",
    "9. agregar_cliente(self, nombre, email): Agrega un nuevo cliente al registro de clientes. Debe recibir el nombre y el correo electrónico del cliente como parámetros.\n",
    "\n",
    "        - Agrega un cliente al diccionario de clientes con su nombre y correo electrónico.\n",
    "\n"
   ]
  },
  {
   "cell_type": "markdown",
   "metadata": {},
   "source": [
    "\n",
    "\n",
    "10. ver_clientes(self): Muestra la lista de clientes registrados con sus nombres y correos electrónicos.\n",
    "\n",
    "        - Utiliza un bucle for para recorrer la base de datos de clientes.\n",
    "\n",
    "        - Imprime los detalles de cada cliente (nombre y correo electrónico).\n",
    "\n",
    "\n"
   ]
  },
  {
   "cell_type": "markdown",
   "metadata": {},
   "source": [
    "\n",
    "11. registrar_compra(self, nombre_cliente, carrito): Registra una compra para un cliente, actualiza las ventas totales y agrega la compra al historial del cliente. Debe recibir el nombre del cliente y el carrito de compras como parámetros.\n",
    "\n",
    "        - Busca al cliente en el diccionario de clientes.\n",
    "\n",
    "        - Si el cliente no esta en el diccionario de clientes, muestra que no se puede realizar la acción por que el cliente no está en el diccionario.\n",
    "\n",
    "        - Calcula el total de la compra y registra la compra, incluyendo los productos y el total.\n",
    "\n",
    "Ejemplo:\n",
    "carrito_cliente1 = {\"Camisa\": {\"precio\": 20, \"cantidad\": 3}}\n",
    "tienda.registrar_compra(\"Cliente1\", carrito_cliente1)\n",
    "\n"
   ]
  },
  {
   "cell_type": "markdown",
   "metadata": {},
   "source": [
    "\n",
    "\n",
    "12. ver_compras_cliente(self, nombre_cliente): Muestra el historial de compras de un cliente. Debe recibir el nombre del cliente como parámetro.\n",
    "\n",
    "        - Busca al cliente en el diccionario de clientes.\n",
    "\n",
    "        - Muestra las compras realizadas por el cliente, incluyendo detalles de productos y totales.\n",
    "\n"
   ]
  },
  {
   "cell_type": "markdown",
   "metadata": {},
   "source": [
    "\n",
    "\n",
    "13. calcular_ventas_totales(self): Muestra las ventas totales de la tienda.\n",
    "\n",
    "        - Suma los totales de todas las compras realizadas y muestra el total de ventas totales en la tienda.\n",
    "\n"
   ]
  },
  {
   "cell_type": "markdown",
   "metadata": {},
   "source": [
    "\n",
    "\n",
    "### Instrucciones Adicionales:\n",
    "Debes crear instancias de la clase TiendaOnline y probar cada uno de los métodos para demostrar que funcionan correctamente."
   ]
  },
  {
   "cell_type": "code",
   "execution_count": 1,
   "metadata": {},
   "outputs": [],
   "source": [
    "class TiendaOnline: \n",
    "    def __init__(self, inventario, clientes,ventas_totales = 0):\n",
    "        self.inventario = inventario\n",
    "        self.clientes = clientes\n",
    "        self.ventas_totales = ventas_totales\n",
    "    \n",
    "    \n",
    "    def agregar_producto(self, nombre, precio, cantidad):\n",
    "        # Establecemos los parámetros nombre, precio y cantidad en un diccionario de 'producto nuevo'. \n",
    "        nuevo_producto = {'nombre' : nombre, 'precio' : precio, 'cantidad' : cantidad}\n",
    "        \n",
    "        # Debemos comprobar si el producto ya está en el inventario con un bucle for (iteramos a través del inventario):\n",
    "        for producto in self.inventario:\n",
    "            if producto['nombre'] == nombre: \n",
    "                # Comprobamos si el nombre del producto se encuentra en el inventario\n",
    "                # Si encontramos producto, actualizaremos la cantidad del mismo \n",
    "                producto['cantidad'] += cantidad  \n",
    "                return f'El producto {nombre} ya se encuentra en el inventario, se han agregado {cantidad} unidades del producto.' #Devolvemos el resultado con 'return'\n",
    "    \n",
    "                # Si el producto no está en el inventario, lo aagregamos a la lista inventario \n",
    "        \n",
    "        self.inventario.append(nuevo_producto)\n",
    "        return f'El producto no se encuentra en el inventario. Se ha agregado el producto {nombre} al inventario con {cantidad} unidades del producto.'\n",
    "    \n",
    "\n",
    "    # Para poder ver los productos que tenemos en el inventario con sus respectivos detalles debemos definir variables nombre, precio y cantidad dentro del bucle for\n",
    "    # Definimos variable inventario que será una lista vacía a la que le añadiremos las variables nombre, precio y cantidad\n",
    "    def ver_inventario(self):\n",
    "        inventario = []\n",
    "        \n",
    "        for producto in self.inventario: \n",
    "            nombre = producto['nombre']\n",
    "            precio = producto['precio']\n",
    "            cantidad = producto['cantidad']\n",
    "    \n",
    "            variables_inventario = f'Nombre: {nombre}, Precio: {precio}, Cantidad: {cantidad}'\n",
    "            inventario.append(variables_inventario)\n",
    "            #Usamos append para que añada las variables del inventario en la lista vacía 'inventario'\n",
    "        return inventario \n",
    "\n",
    "    # OTRO MÉTODO:\n",
    "    # Creamos la función y una lista inventario la cual estará vacía, añadiremos a inventario las 3 variables que definiremos a continuación.\n",
    "                    # def ver_inventario(self):\n",
    "                    #     for producto in self.inventario: \n",
    "                    #         nombre = producto['nombre']\n",
    "                    #         precio = producto['precio']\n",
    "                    #         cantidad = producto['cantidad']\n",
    "        \n",
    "                            # print(f'Nombre: {nombre}, Precio: {precio}, Cantidad: {cantidad}')\n",
    "            \n",
    "    def buscar_producto(self, nombre):\n",
    "        for producto in self.inventario: \n",
    "            if nombre == producto['nombre']:\n",
    "                return f\"Información del producto encontrado: Nombre: {nombre}, Precio: {producto['precio']}, Cantidad: {producto['cantidad']}\"\n",
    "            \n",
    "        return 'Sin resultado en la búsqueda. Pruebe con el nombre de otro producto'\n",
    "    \n",
    "    #se realizó en la función agregar productos de forma muy similar\n",
    "    def actualizar_stock(self, nombre, cantidad):\n",
    "        for producto in self.inventario: \n",
    "            if nombre == producto['nombre']: \n",
    "                producto['cantidad'] += cantidad  \n",
    "                return f'Se ha modificado el stock del producto {nombre}: stock actual {producto[\"cantidad\"]}'\n",
    "            \n",
    "        print('Lo siento, el producto no se encuentra en el inventario. Compruebe que ha introducido los datos correctamente.')\n",
    "        \n",
    "        \n",
    "    def eliminar_producto(self, nombre):\n",
    "        for producto in self.inventario:\n",
    "            if nombre == producto['nombre']:\n",
    "                self.inventario.remove(producto)\n",
    "                return f'Se ha eliminado el producto {nombre} del inventario.'\n",
    "        \n",
    "        return f'No se ha encontrado el producto en el inventario, pruebe con otro.'\n",
    "    \n",
    "    \n",
    "    def calcular_valor_inventario(self):\n",
    "        total_valor = 0 # Declaramos variable = 0 para evitar errores en nuestro bucle for. \n",
    "        for producto in self.inventario:\n",
    "            valor_productos = producto['cantidad'] * producto['precio']\n",
    "            total_valor += valor_productos\n",
    "            \n",
    "        return f'El valor total del inventario es: {total_valor}'\n",
    "            \n",
    "    \n",
    "    def realizar_compra(self):\n",
    "        carrito = []\n",
    "        #Establecemeos condición para el bucle while\n",
    "        comprar = True\n",
    "        \n",
    "        while comprar:\n",
    "            print('Inventario actual de nuestra tienda: ')\n",
    "            for item in self.ver_inventario():\n",
    "                print(item)\n",
    "            \n",
    "            \n",
    "            nombre_producto = input('Inserte el nombre del producto que desea comprar:\\nSi desea finalizar la compra inserte \"finalizar compra\"').lower()\n",
    "        \n",
    "        # Enseñamos el inventario completo llamando a la función creada anteriormente ver_inventario()\n",
    "        # En el input damos la opción al cliente de comprar o finalizar compra:\n",
    "    \n",
    "            if nombre_producto == 'finalizar compra': \n",
    "                comprar = False \n",
    "            # Cambiamos condición 'comprar' del bucle while para que se detenga con esta condición\n",
    "           \n",
    "            else: \n",
    "                encontrar_producto = False \n",
    "            #Añadimos esta variable para que en caso de introducir un producto que no esté en el inventario, nos envie un mensaje\n",
    "                \n",
    "                for producto in self.inventario:\n",
    "                    if nombre_producto == producto['nombre'].lower():\n",
    "                    # Comprobamos si tenemos stock \n",
    "                        encontrar_producto = True \n",
    "                        cantidad_producto = int(input(f'Inserte la cantidad que desea comprar de {nombre_producto}: '))\n",
    "                        \n",
    "                        if producto['cantidad'] >= cantidad_producto: \n",
    "                            #Si tenemos stock utilizamos append() para añadir productos seleccionado por el cliente al carrito (lista vacía)\n",
    "                            carrito.append({'nombre': producto['nombre'], 'precio': producto['precio'], 'cantidad': cantidad_producto})\n",
    "    \n",
    "                            # Restamos del stock ('cantidad') del producto que se vaya a comprar\n",
    "                            producto['cantidad'] -= cantidad_producto\n",
    "                            print(f'Se ha añadido al carrito {cantidad_producto} unidades de {nombre_producto}.')\n",
    "\n",
    "                        else:\n",
    "                            print(f'¡Lo siento! No hay unidades disponibles en stock.')\n",
    "                            \n",
    "                # con ello se imprimirá un mensaje al cliente en caso de introducir un producto que no exista en la base de datos\n",
    "                if not encontrar_producto: \n",
    "                    print(f'El producto {nombre_producto} que nos ha solicitado no se encuentra en el inventario')\n",
    "                    \n",
    "        total_compra = 0\n",
    "        for producto in carrito: \n",
    "            calculo_compra = producto['precio'] * producto['cantidad']\n",
    "            total_compra += calculo_compra\n",
    "            \n",
    "        for productos in carrito:\n",
    "            print(productos)   \n",
    "        \n",
    "        print(f'El total a pagar de la compra: €{total_compra}')\n",
    "        \n",
    "    \n",
    "    def procesar_pago(self):  \n",
    "        \n",
    "        try:\n",
    "            # Convertimos el total de la compra a tipo 'float'\n",
    "            total_compra = float(input('Ingrese el coste total de su compra: €'))\n",
    "            print(f' El total de su compra es: €{total_compra}')\n",
    "            # Solicitar al cliente la cantidad de pago correspondiente:\n",
    "            cantidad_pago = float(input('Ingrese la cantidad de pago correspondiente: €'))\n",
    "\n",
    "            # Calcular el cambio:\n",
    "            cambio = cantidad_pago - total_compra\n",
    "\n",
    "            # Comprobar si el cambio es suficiente para completar el pago:\n",
    "            if cambio >= 0: \n",
    "                print(f\"Pagado con éxito. Su cambio es: €{cambio}\")\n",
    "       \n",
    "            else:\n",
    "                print('Pago insuficiente. Debe abonar el coste total de su compra.')\n",
    "\n",
    "    # Manejar excepciones en caso de que el usuario ingrese un valor no numérico\n",
    "        \n",
    "        except ValueError:\n",
    "            print(\"Error: Ingrese un valor numérico válido para el pago.\")\n",
    "        \n",
    "        \n",
    "    def agregar_cliente(self, nombre, email):\n",
    "    # Comprobamos si le nombre del cliente se encuentra en el diccionario de clientes\n",
    "        if nombre in self.clientes:\n",
    "            # Si existe, devuelve un mensaje de que el cliente ya existe\n",
    "            print('El cliente ya existe en nuestra base de datos.')\n",
    "        \n",
    "        else:\n",
    "            # Si el nombre no existe, agregamos al diccionario de clientes la nueva información\n",
    "            self.clientes[nombre] = {'email': email, 'compras': []}\n",
    "            # Imprime un mensaje indicando que el cliente fue agregado correctamente\n",
    "            print(f'El cliente {nombre} se ha añadido correctamente.')\n",
    "            \n",
    "            \n",
    "    def ver_clientes(self):\n",
    "        # Iteramos a través de los nombres de los clientes en el diccionario de clientes\n",
    "        for nombre, detalles in self.clientes.items(): \n",
    "            # Imprimimos el nombre del cliente y su correo electrónico:\n",
    "            print(f\"Nombre : {nombre}, correo electrónico: {detalles['email']}\")\n",
    "            \n",
    "            \n",
    "    def registrar_compra(self, nombre_cliente, carrito): \n",
    "        # Comprobamos si el cliente está registrado\n",
    "            if nombre_cliente in self.clientes:\n",
    "                total_compra = 0\n",
    "                for producto, detalles in carrito.items():\n",
    "                     # Calculamos el total de la compra sumando el precio de cada producto multiplicado por su cantidad\n",
    "                    total_compra += detalles['precio'] * detalles['cantidad']\n",
    "  \n",
    "            else: \n",
    "                print(f'No se puede realizar la acción deseada. El cliente {nombre_cliente} no existe en nuestra base de datos')\n",
    "                # Si el cliente no está registrado nos devuelve mensaje donde avisa que accion no puede realizarse \n",
    "            \n",
    "    def ver_compras_cliente(self, nombre_cliente):\n",
    "        # Comprobamos si el cliente está registrado:\n",
    "        if nombre_cliente in self.clientes:\n",
    "            cliente = self.clientes[nombre_cliente]\n",
    "            \n",
    "        # Comprobamos si el cliente tiene historial de compras ya almacenado\n",
    "            if cliente['compras']:\n",
    "                    \n",
    "                # Si el cliente tiene historial, se imprimirá:\n",
    "                for compra in cliente['compras']:\n",
    "                    print(compra)\n",
    "            else:\n",
    "            #Si no tiene historial, nos devolverá mensaje de que no tiene historial de compras\n",
    "                print(f'El cliente {nombre_cliente} no tiene historial de compras')\n",
    "        else:\n",
    "            print(f'El cliente {nombre_cliente} no existe en nuestra base de datos')\n",
    "            \n",
    "    \n",
    "    def calcular_ventas_totales(self):\n",
    "        # self.ventas_totales es un atributo de tipo float diseñado para almacenar el total de las ventas, por lo que no se puede iterar y ser tratado como una lista.\n",
    "        # Simplemente devolvemos el valor almacenado en self.ventas_totales. \n",
    "        # No necesitas realizar ninguna iteración sobre ello.\n",
    "        return f'Las ventas totales de la tienda son: {self.ventas_totales}'\n",
    "\n"
   ]
  },
  {
   "cell_type": "code",
   "execution_count": 2,
   "metadata": {},
   "outputs": [],
   "source": [
    "inventario = [{'nombre': 'camisa', 'precio': 20, 'cantidad': 50}, {'nombre': 'pantalon', 'precio': 30, 'cantidad': 40},\n",
    "            {'nombre': 'zapatos', 'precio': 50, 'cantidad': 20},{'nombre': 'vestido', 'precio': 40, 'cantidad': 30},\n",
    "            {'nombre': 'bufanda', 'precio': 15, 'cantidad': 25},\n",
    "            {'nombre': 'falda', 'precio': 35, 'cantidad': 15}]\n",
    "\n",
    "clientes = {'sara': {'email': 'sara@email.com', 'compras': ['camisa', 'pantalón', 'bufanda']},\n",
    "    'alberto': {'email': 'alberto@email.com', 'compras': ['zapatos', 'camiseta', 'pantalón']},\n",
    "    'mar': {'email': 'mar@email.com', 'compras': ['vestido', 'falda', 'camisa']}}\n",
    "\n",
    "tienda_ropa = TiendaOnline(inventario, clientes, )\n"
   ]
  },
  {
   "cell_type": "code",
   "execution_count": 3,
   "metadata": {},
   "outputs": [
    {
     "data": {
      "text/plain": [
       "'El producto falda ya se encuentra en el inventario, se han agregado 5 unidades del producto.'"
      ]
     },
     "execution_count": 3,
     "metadata": {},
     "output_type": "execute_result"
    }
   ],
   "source": [
    "tienda_ropa.agregar_producto('falda', 30, 5)\n"
   ]
  },
  {
   "cell_type": "code",
   "execution_count": 7,
   "metadata": {},
   "outputs": [
    {
     "data": {
      "text/plain": [
       "['Nombre: camisa, Precio: 20, Cantidad: 50',\n",
       " 'Nombre: pantalon, Precio: 30, Cantidad: 40',\n",
       " 'Nombre: zapatos, Precio: 50, Cantidad: 20',\n",
       " 'Nombre: vestido, Precio: 40, Cantidad: 30',\n",
       " 'Nombre: bufanda, Precio: 15, Cantidad: 25',\n",
       " 'Nombre: falda, Precio: 35, Cantidad: 15']"
      ]
     },
     "execution_count": 7,
     "metadata": {},
     "output_type": "execute_result"
    }
   ],
   "source": [
    "tienda_ropa.ver_inventario()"
   ]
  },
  {
   "cell_type": "code",
   "execution_count": 8,
   "metadata": {},
   "outputs": [
    {
     "data": {
      "text/plain": [
       "'Sin resultado en la búsqueda. Pruebe con el nombre de otro producto'"
      ]
     },
     "execution_count": 8,
     "metadata": {},
     "output_type": "execute_result"
    }
   ],
   "source": [
    "# Buscamos producto que no está en el inventario:\n",
    "tienda_ropa.buscar_producto('chaqueta')"
   ]
  },
  {
   "cell_type": "code",
   "execution_count": 9,
   "metadata": {},
   "outputs": [
    {
     "data": {
      "text/plain": [
       "'Información del producto encontrado: Nombre: falda, Precio: 35, Cantidad: 15'"
      ]
     },
     "execution_count": 9,
     "metadata": {},
     "output_type": "execute_result"
    }
   ],
   "source": [
    "# Buscamos producto existente en el inventario:\n",
    "tienda_ropa.buscar_producto('falda')"
   ]
  },
  {
   "cell_type": "code",
   "execution_count": 11,
   "metadata": {},
   "outputs": [
    {
     "data": {
      "text/plain": [
       "'Se ha modificado el stock del producto pantalon: stock actual 55'"
      ]
     },
     "execution_count": 11,
     "metadata": {},
     "output_type": "execute_result"
    }
   ],
   "source": [
    "# Probamos con un producto del inventario:\n",
    "tienda_ropa.actualizar_stock('pantalon', 15)"
   ]
  },
  {
   "cell_type": "code",
   "execution_count": 12,
   "metadata": {},
   "outputs": [
    {
     "name": "stdout",
     "output_type": "stream",
     "text": [
      "Lo siento, el producto no se encuentra en el inventario. Compruebe que ha introducido los datos correctamente.\n"
     ]
    }
   ],
   "source": [
    "# Probamos con producto que no está en el inventario:\n",
    "tienda_ropa.actualizar_stock('calcetines', 8)"
   ]
  },
  {
   "cell_type": "code",
   "execution_count": 13,
   "metadata": {},
   "outputs": [
    {
     "data": {
      "text/plain": [
       "'No se ha encontrado el producto en el inventario, pruebe con otro.'"
      ]
     },
     "execution_count": 13,
     "metadata": {},
     "output_type": "execute_result"
    }
   ],
   "source": [
    "# Probamos con producto que no está en el inventario:\n",
    "tienda_ropa.eliminar_producto('calcetines')"
   ]
  },
  {
   "cell_type": "code",
   "execution_count": 14,
   "metadata": {},
   "outputs": [
    {
     "data": {
      "text/plain": [
       "'Se ha eliminado el producto camisa del inventario.'"
      ]
     },
     "execution_count": 14,
     "metadata": {},
     "output_type": "execute_result"
    }
   ],
   "source": [
    "# Probamos con un producto del inventario:\n",
    "tienda_ropa.eliminar_producto('camisa')"
   ]
  },
  {
   "cell_type": "code",
   "execution_count": 15,
   "metadata": {},
   "outputs": [
    {
     "data": {
      "text/plain": [
       "'El valor total del inventario es: 4750'"
      ]
     },
     "execution_count": 15,
     "metadata": {},
     "output_type": "execute_result"
    }
   ],
   "source": [
    "# Vamos a calcular el valor del inventario:\n",
    "tienda_ropa.calcular_valor_inventario()"
   ]
  },
  {
   "cell_type": "code",
   "execution_count": 16,
   "metadata": {},
   "outputs": [
    {
     "name": "stdout",
     "output_type": "stream",
     "text": [
      "Inventario actual de nuestra tienda: \n",
      "Nombre: pantalon, Precio: 30, Cantidad: 55\n",
      "Nombre: zapatos, Precio: 50, Cantidad: 20\n",
      "Nombre: vestido, Precio: 40, Cantidad: 30\n",
      "Nombre: bufanda, Precio: 15, Cantidad: 25\n",
      "Nombre: falda, Precio: 35, Cantidad: 15\n",
      "El producto camisa que nos ha solicitado no se encuentra en el inventario\n",
      "Inventario actual de nuestra tienda: \n",
      "Nombre: pantalon, Precio: 30, Cantidad: 55\n",
      "Nombre: zapatos, Precio: 50, Cantidad: 20\n",
      "Nombre: vestido, Precio: 40, Cantidad: 30\n",
      "Nombre: bufanda, Precio: 15, Cantidad: 25\n",
      "Nombre: falda, Precio: 35, Cantidad: 15\n",
      "Se ha añadido al carrito 2 unidades de pantalon.\n",
      "Inventario actual de nuestra tienda: \n",
      "Nombre: pantalon, Precio: 30, Cantidad: 53\n",
      "Nombre: zapatos, Precio: 50, Cantidad: 20\n",
      "Nombre: vestido, Precio: 40, Cantidad: 30\n",
      "Nombre: bufanda, Precio: 15, Cantidad: 25\n",
      "Nombre: falda, Precio: 35, Cantidad: 15\n",
      "Se ha añadido al carrito 2 unidades de falda.\n",
      "Inventario actual de nuestra tienda: \n",
      "Nombre: pantalon, Precio: 30, Cantidad: 53\n",
      "Nombre: zapatos, Precio: 50, Cantidad: 20\n",
      "Nombre: vestido, Precio: 40, Cantidad: 30\n",
      "Nombre: bufanda, Precio: 15, Cantidad: 25\n",
      "Nombre: falda, Precio: 35, Cantidad: 13\n",
      "{'nombre': 'pantalon', 'precio': 30, 'cantidad': 2}\n",
      "{'nombre': 'falda', 'precio': 35, 'cantidad': 2}\n",
      "El total a pagar de la compra: €130\n"
     ]
    }
   ],
   "source": [
    "# Realizamos compra:\n",
    "tienda_ropa.realizar_compra()"
   ]
  },
  {
   "cell_type": "code",
   "execution_count": 17,
   "metadata": {},
   "outputs": [
    {
     "name": "stdout",
     "output_type": "stream",
     "text": [
      " El total de su compra es: €130.0\n",
      "Pagado con éxito. Su cambio es: €10.0\n"
     ]
    }
   ],
   "source": [
    "# Comprobamos con pago con 140€, siendo correcto el cambio\n",
    "tienda_ropa.procesar_pago()"
   ]
  },
  {
   "cell_type": "code",
   "execution_count": 18,
   "metadata": {},
   "outputs": [
    {
     "name": "stdout",
     "output_type": "stream",
     "text": [
      " El total de su compra es: €130.0\n",
      "Pago insuficiente. Debe abonar el coste total de su compra.\n"
     ]
    }
   ],
   "source": [
    "# Comprobamos pago con importe inferior al total de la comprar: \n",
    "tienda_ropa.procesar_pago()"
   ]
  },
  {
   "cell_type": "code",
   "execution_count": 19,
   "metadata": {},
   "outputs": [
    {
     "name": "stdout",
     "output_type": "stream",
     "text": [
      "El cliente julia se ha añadido correctamente.\n"
     ]
    }
   ],
   "source": [
    "# Intentamos agregar un nuevo cliente:\n",
    "tienda_ropa.agregar_cliente('julia', 'julia@email.com')"
   ]
  },
  {
   "cell_type": "code",
   "execution_count": 20,
   "metadata": {},
   "outputs": [
    {
     "name": "stdout",
     "output_type": "stream",
     "text": [
      "El cliente ya existe en nuestra base de datos.\n"
     ]
    }
   ],
   "source": [
    "# Probamos a agregar un cliente que ya existe: \n",
    "tienda_ropa.agregar_cliente('alberto', 'alberto@email.com')"
   ]
  },
  {
   "cell_type": "code",
   "execution_count": 21,
   "metadata": {},
   "outputs": [
    {
     "name": "stdout",
     "output_type": "stream",
     "text": [
      "Nombre : sara, correo electrónico: sara@email.com\n",
      "Nombre : alberto, correo electrónico: alberto@email.com\n",
      "Nombre : mar, correo electrónico: mar@email.com\n",
      "Nombre : julia, correo electrónico: julia@email.com\n"
     ]
    }
   ],
   "source": [
    "tienda_ropa.ver_clientes()"
   ]
  },
  {
   "cell_type": "code",
   "execution_count": 22,
   "metadata": {},
   "outputs": [],
   "source": [
    "## No da resultado correcto ¿? \n",
    "carrito_Alberto = {\"camisa\": {\"precio\": 10, \"cantidad\": 2}, \"pantalon\": {\"precio\": 15, \"cantidad\": 1}}\n",
    "tienda_ropa.registrar_compra('alberto', carrito_Alberto)"
   ]
  },
  {
   "cell_type": "code",
   "execution_count": 23,
   "metadata": {},
   "outputs": [
    {
     "name": "stdout",
     "output_type": "stream",
     "text": [
      "zapatos\n",
      "camiseta\n",
      "pantalón\n"
     ]
    }
   ],
   "source": [
    "tienda_ropa.ver_compras_cliente('alberto')"
   ]
  },
  {
   "cell_type": "code",
   "execution_count": 4,
   "metadata": {},
   "outputs": [
    {
     "name": "stdout",
     "output_type": "stream",
     "text": [
      "Las ventas totales de la tienda son: 17000.5\n"
     ]
    }
   ],
   "source": [
    "tienda_ropa.ventas_totales = 17000.50\n",
    "resultado_ventas = tienda_ropa.calcular_ventas_totales()\n",
    "print(resultado_ventas)"
   ]
  }
 ],
 "metadata": {
  "kernelspec": {
   "display_name": "base",
   "language": "python",
   "name": "python3"
  },
  "language_info": {
   "codemirror_mode": {
    "name": "ipython",
    "version": 3
   },
   "file_extension": ".py",
   "mimetype": "text/x-python",
   "name": "python",
   "nbconvert_exporter": "python",
   "pygments_lexer": "ipython3",
   "version": "3.9.7"
  }
 },
 "nbformat": 4,
 "nbformat_minor": 2
}
